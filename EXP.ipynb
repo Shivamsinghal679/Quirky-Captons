{
 "cells": [
  {
   "cell_type": "code",
   "execution_count": 4,
   "metadata": {},
   "outputs": [],
   "source": [
    "import clip\n",
    "import torch\n",
    "\n",
    "# Load the open CLIP model\n",
    "device = \"cuda\" if torch.cuda.is_available() else \"cpu\"\n",
    "model, preprocess = clip.load(\"ViT-B/32\", device=device)"
   ]
  },
  {
   "cell_type": "code",
   "execution_count": 5,
   "metadata": {},
   "outputs": [],
   "source": [
    "#Encode text to CLIP vector\n",
    "def encode_text(search_query):\n",
    "  with torch.no_grad():\n",
    "    # Encode and normalize the search query using CLIP\n",
    "    text_encoded = model.encode_text(clip.tokenize(search_query).to(device))\n",
    "    text_encoded /= text_encoded.norm(dim=-1, keepdim=True)\n",
    "\n",
    "  # Retrieve the feature vector\n",
    "  return text_encoded"
   ]
  },
  {
   "cell_type": "code",
   "execution_count": 6,
   "metadata": {},
   "outputs": [],
   "source": [
    "def encode_image(image_path):\n",
    "  from PIL import Image\n",
    "  image = preprocess(Image.open(image_path)).unsqueeze(0).to(device)\n",
    "  image_features = model.encode_image(image)\n",
    "  image_features /= image_features.norm(dim=-1, keepdim=True)\n",
    "  return image_features"
   ]
  },
  {
   "cell_type": "code",
   "execution_count": 7,
   "metadata": {},
   "outputs": [
    {
     "data": {
      "text/plain": [
       "0.2810862958431244"
      ]
     },
     "execution_count": 7,
     "metadata": {},
     "output_type": "execute_result"
    }
   ],
   "source": [
    "def get_similarity(search_query, image_path):\n",
    "    photo_features = encode_image(image_path)\n",
    "    text_features = encode_text(search_query)\n",
    "    return (photo_features @ text_features.T).squeeze(1).item()\n",
    "\n",
    "get_similarity(\"crying girl \", 'C:\\\\Users\\\\ACER\\\\OneDrive\\\\Desktop\\\\Image+Text\\\\Images\\\\sad_girl1.jpg')"
   ]
  },
  {
   "cell_type": "code",
   "execution_count": 6,
   "metadata": {},
   "outputs": [
    {
     "data": {
      "image/jpeg": "[encoded data removed]",
      "text/plain": [
       "<IPython.core.display.Image object>"
      ]
     },
     "metadata": {},
     "output_type": "display_data"
    }
   ],
   "source": [
    "def display_image(path):\n",
    "    from IPython.display import Image\n",
    "    display(Image(path))\n",
    "display_image('C:\\\\Users\\\\ACER\\\\OneDrive\\\\Desktop\\\\Image+Text\\\\Images\\\\sad_girl1.jpg')"
   ]
  },
  {
   "cell_type": "code",
   "execution_count": null,
   "metadata": {},
   "outputs": [],
   "source": [
    "'''\n",
    "Lets decide some categories:\n",
    "1> Sports\n",
    "2> Wedding\n",
    "3> \n",
    "\n",
    "'''"
   ]
  },
  {
   "cell_type": "code",
   "execution_count": 8,
   "metadata": {},
   "outputs": [],
   "source": [
    "import pandas as pd"
   ]
  },
  {
   "cell_type": "code",
   "execution_count": 8,
   "metadata": {},
   "outputs": [],
   "source": [
    "df = pd.read_csv('Laptions.csv')"
   ]
  },
  {
   "cell_type": "code",
   "execution_count": 23,
   "metadata": {},
   "outputs": [
    {
     "data": {
      "text/plain": [
       "(297, 2)"
      ]
     },
     "execution_count": 23,
     "metadata": {},
     "output_type": "execute_result"
    }
   ],
   "source": [
    "df.shape"
   ]
  },
  {
   "cell_type": "code",
   "execution_count": 11,
   "metadata": {},
   "outputs": [
    {
     "data": {
      "text/plain": [
       "'\\nINPUT: Image and database\\nOutput: Most similar caption\\n\\n'"
      ]
     },
     "execution_count": 11,
     "metadata": {},
     "output_type": "execute_result"
    }
   ],
   "source": [
    "'''\n",
    "INPUT: Image and database\n",
    "Output: Most similar caption\n",
    "\n",
    "'''"
   ]
  },
  {
   "cell_type": "code",
   "execution_count": 79,
   "metadata": {},
   "outputs": [],
   "source": [
    "df['Vec'] = df['CAPTION'].apply(lambda x: encode_text(x))"
   ]
  },
  {
   "cell_type": "code",
   "execution_count": 80,
   "metadata": {},
   "outputs": [],
   "source": [
    "tensor_list = [tensor for tensor in df['Vec']]"
   ]
  },
  {
   "cell_type": "code",
   "execution_count": 107,
   "metadata": {},
   "outputs": [
    {
     "data": {
      "text/plain": [
       "torch.Size([1, 512])"
      ]
     },
     "execution_count": 107,
     "metadata": {},
     "output_type": "execute_result"
    }
   ],
   "source": [
    "tensor_list[0].shape"
   ]
  },
  {
   "cell_type": "code",
   "execution_count": 81,
   "metadata": {},
   "outputs": [],
   "source": [
    "vector_db = torch.stack(tensor_list)"
   ]
  },
  {
   "cell_type": "code",
   "execution_count": 83,
   "metadata": {},
   "outputs": [],
   "source": [
    "torch.save(vector_db, 'vector_db.pt')"
   ]
  },
  {
   "cell_type": "code",
   "execution_count": null,
   "metadata": {},
   "outputs": [],
   "source": [
    "df['Vec'] = [i for i in vector_db]\n",
    "a = df[df['TOPIC'] != 'Nature: Post pictures of beautiful landscapes, animals, and plants.']"
   ]
  },
  {
   "cell_type": "code",
   "execution_count": 24,
   "metadata": {},
   "outputs": [],
   "source": [
    "df = pd.read_csv('Laptions.csv')\n",
    "vector_db = torch.load('vector_db.pt')\n",
    "df['Vec'] = [i for i in vector_db]"
   ]
  },
  {
   "cell_type": "code",
   "execution_count": 13,
   "metadata": {},
   "outputs": [],
   "source": [
    "def get_single_vector(image_path,text = ''):\n",
    "    features = encode_image(image_path)\n",
    "    if(text != ''):\n",
    "        features += encode_text(text)\n",
    "    return features"
   ]
  },
  {
   "cell_type": "code",
   "execution_count": 14,
   "metadata": {},
   "outputs": [],
   "source": [
    "def get_most_similar_caption_from_text_image(image_path,df,text = ''):\n",
    "    features = get_single_vector(image_path,text)\n",
    "    df['Similarity'] = df['Vec'].apply(lambda x: (features @ x.T).squeeze(1).item())\n",
    "    return df.sort_values(by=['Similarity'],ascending=False)"
   ]
  },
  {
   "cell_type": "code",
   "execution_count": 33,
   "metadata": {},
   "outputs": [],
   "source": [
    "p = get_most_similar_caption_from_text_image(\"Images\\\\bride_groom1.jpg\",df,'nature')['CAPTION']#.iloc[0]"
   ]
  },
  {
   "cell_type": "code",
   "execution_count": 34,
   "metadata": {},
   "outputs": [
    {
     "data": {
      "text/plain": [
       "114    \"Nature is not just a backdrop, it's a protago...\n",
       "100    \"Nature is the art of God. What's your favorit...\n",
       "109    \"Nature is not just a pretty sight, it's a liv...\n",
       "105    \"Nature is the best teacher. What's the most i...\n",
       "99     \"Nature is not a place to visit, it's home. Wh...\n",
       "                             ...                        \n",
       "246                    Messy bun and getting stuff done.\n",
       "295    My mirror and my camera have two completely di...\n",
       "242    College is nice. You can wear the same shirt t...\n",
       "291          I cleaned the bathroom to take this selfie.\n",
       "277    I'm not taking a mirror selfie, I'm just showi...\n",
       "Name: CAPTION, Length: 297, dtype: object"
      ]
     },
     "execution_count": 34,
     "metadata": {},
     "output_type": "execute_result"
    }
   ],
   "source": [
    "p"
   ]
  },
  {
   "cell_type": "code",
   "execution_count": 114,
   "metadata": {},
   "outputs": [],
   "source": [
    "def get_most_similar_captions(image_path,df):\n",
    "    photo_features = encode_image(image_path)\n",
    "    df['Similarity'] = df['Vec'].apply(lambda x: (photo_features @ x.T).squeeze(1).item())\n",
    "    return df.sort_values(by=['Similarity'],ascending=False)"
   ]
  },
  {
   "cell_type": "code",
   "execution_count": 118,
   "metadata": {},
   "outputs": [
    {
     "name": "stderr",
     "output_type": "stream",
     "text": [
      "C:\\Users\\ACER\\AppData\\Local\\Temp\\ipykernel_22972\\838914041.py:3: SettingWithCopyWarning: \n",
      "A value is trying to be set on a copy of a slice from a DataFrame.\n",
      "Try using .loc[row_indexer,col_indexer] = value instead\n",
      "\n",
      "See the caveats in the documentation: https://pandas.pydata.org/pandas-docs/stable/user_guide/indexing.html#returning-a-view-versus-a-copy\n",
      "  df['Similarity'] = df['Vec'].apply(lambda x: (photo_features @ x.T).squeeze(1).item())\n"
     ]
    }
   ],
   "source": [
    "p = get_most_similar_captions(\"Images\\Food1.jpg\",a)['CAPTION'].iloc[0]"
   ]
  },
  {
   "cell_type": "code",
   "execution_count": 120,
   "metadata": {},
   "outputs": [
    {
     "data": {
      "text/plain": [
       "'\"Eating local is not just a trend, it\\'s a way of life.\"'"
      ]
     },
     "execution_count": 120,
     "metadata": {},
     "output_type": "execute_result"
    }
   ],
   "source": [
    "p"
   ]
  },
  {
   "cell_type": "code",
   "execution_count": 121,
   "metadata": {},
   "outputs": [
    {
     "data": {
      "text/plain": [
       "tensor([[[ 0.0018, -0.0102,  0.0324,  ...,  0.0075, -0.0294,  0.0052]],\n",
       "\n",
       "        [[ 0.0190,  0.0157,  0.0139,  ...,  0.0084,  0.0045, -0.0025]],\n",
       "\n",
       "        [[ 0.0081,  0.0058, -0.0467,  ..., -0.0240,  0.0093,  0.0025]],\n",
       "\n",
       "        ...,\n",
       "\n",
       "        [[-0.0047, -0.0015, -0.0266,  ..., -0.0508, -0.0169, -0.0107]],\n",
       "\n",
       "        [[ 0.0211,  0.0020, -0.0284,  ..., -0.0113,  0.0134, -0.0074]],\n",
       "\n",
       "        [[ 0.0073, -0.0034, -0.0114,  ..., -0.0421, -0.0053,  0.0039]]])"
      ]
     },
     "execution_count": 121,
     "metadata": {},
     "output_type": "execute_result"
    }
   ],
   "source": []
  },
  {
   "cell_type": "code",
   "execution_count": null,
   "metadata": {},
   "outputs": [],
   "source": []
  }
 ],
 "metadata": {
  "kernelspec": {
   "display_name": "CLIP",
   "language": "python",
   "name": "python3"
  },
  "language_info": {
   "codemirror_mode": {
    "name": "ipython",
    "version": 3
   },
   "file_extension": ".py",
   "mimetype": "text/x-python",
   "name": "python",
   "nbconvert_exporter": "python",
   "pygments_lexer": "ipython3",
   "version": "3.10.7"
  },
  "orig_nbformat": 4,
  "vscode": {
   "interpreter": {
    "hash": "f7279e7a6df08948a78d6c2a3c8fd814843896b59640855a2724bdc16bd16b77"
   }
  }
 },
 "nbformat": 4,
 "nbformat_minor": 2
}
